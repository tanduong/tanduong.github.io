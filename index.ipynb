{
 "cells": [
  {
   "cell_type": "markdown",
   "metadata": {},
   "source": [
    "<link rel=\"stylesheet\" href=\"/notebooks/style.css\" media=\"screen\" />\n",
    "\n",
    "# Posts\n",
    "\n",
    "- [Learn AI](./notebooks/learn_ai.html)\n",
    "- [Understanding Bias in Estimators](./notebooks/bias.html)\n",
    "- [yagi](./yagi/index.html)"
   ]
  },
  {
   "cell_type": "markdown",
   "metadata": {},
   "source": []
  }
 ],
 "metadata": {
  "language_info": {
   "name": "python"
  }
 },
 "nbformat": 4,
 "nbformat_minor": 2
}
