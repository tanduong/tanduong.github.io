{
 "cells": [
  {
   "cell_type": "markdown",
   "metadata": {},
   "source": [
    "<link rel=\"stylesheet\" href=\"/notebooks/style.css\" media=\"screen\" />\n",
    "\n",
    "# Posts\n",
    "\n",
    "- [Learn AI](./notebooks/learn_ai.html)\n",
    "- [Understanding Bias in Estimators](./notebooks/bias.html)"
   ]
  }
 ],
 "metadata": {
  "language_info": {
   "name": "python"
  }
 },
 "nbformat": 4,
 "nbformat_minor": 2
}
