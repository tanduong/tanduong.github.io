{
 "cells": [
  {
   "cell_type": "markdown",
   "metadata": {
    "vscode": {
     "languageId": "html"
    }
   },
   "source": [
    "<link rel=\"stylesheet\" href=\"https://unpkg.com/sakura.css/css/sakura-dark.css\" media=\"screen\" />\n",
    "<link rel=\"stylesheet\" href=\"/notebooks/sakura-vader.css\" media=\"screen\" />\n",
    "\n",
    "<a href=\"/\">\n",
    "    <h1>🏠 Back</h1>\n",
    "</a>"
   ]
  },
  {
   "cell_type": "markdown",
   "metadata": {},
   "source": [
    "# Understanding Bias in Estimators\n",
    "\n",
    "[![Open In Colab](https://colab.research.google.com/assets/colab-badge.svg)](https://colab.research.google.com/github/tanduong/tanduong.github.io/blob/main/notebooks/bias.ipynb)\n",
    "\n",
    "Bias in statistics measures the difference between an estimator's expected value and the true parameter value it aims to estimate. It's a key concept for assessing the accuracy of statistical methods. In this post, we'll explore the concept of bias, provide examples of biased and unbiased estimators, and use Python to illustrate these ideas through simulations.\n",
    "\n",
    "---\n",
    "\n",
    "## Definition\n",
    "\n",
    "The bias of an estimator is defined as:\n",
    "$$\n",
    "\\text{bias}(\\hat{\\theta}_m) = E(\\hat{\\theta}_m) - \\theta\n",
    "$$\n",
    "\n",
    "Let's go on to give some examples of the bias of an estimator.\n",
    "\n",
    "## Examples\n",
    "\n",
    "### Example 1: Sample Mean as an Estimator of Population Mean\n",
    "Consider the sample mean $\\bar{X}$ as an estimator of the population mean $\\mu$.\n",
    "\n",
    "**Estimator:**\n",
    "$$\n",
    "\\hat{\\theta}_m = \\bar{X} = \\frac{1}{n} \\sum_{i=1}^n X_i\n",
    "$$\n",
    "\n",
    "**Bias:**\n",
    "Since the sample mean is an unbiased estimator of the population mean, we have:\n",
    "$$\n",
    "\\text{bias}(\\bar{X}) = E(\\bar{X}) - \\mu = \\mu - \\mu = 0\n",
    "$$\n",
    "\n",
    "### Example 2: Sample Variance as an Estimator of Population Variance\n",
    "Consider the sample variance $S^2$ as an estimator of the population variance $\\sigma^2$.\n",
    "\n",
    "**Estimator:**\n",
    "$$\n",
    "\\hat{\\theta}_m = S^2 = \\frac{1}{n} \\sum_{i=1}^n (X_i - \\bar{X})^2\n",
    "$$\n",
    "\n",
    "**Bias:**\n",
    "The sample variance is a biased estimator of the population variance. The bias can be calculated as follows:\n",
    "$$\n",
    "\\text{bias}(S^2) = E(S^2) - \\sigma^2 = \\left( \\frac{n-1}{n} \\sigma^2 \\right) - \\sigma^2 = -\\frac{\\sigma^2}{n}\n",
    "$$\n",
    "\n",
    "### Example 3: Estimating Population Proportion\n",
    "Consider the sample proportion $\\hat{p}$ as an estimator of the population proportion $p$.\n",
    "\n",
    "**Estimator:**\n",
    "$$\n",
    "\\hat{\\theta}_m = \\hat{p} = \\frac{X}{n}\n",
    "$$\n",
    "\n",
    "where $X$ is the number of successes in $n$ trials.\n",
    "\n",
    "**Bias:**\n",
    "Since the sample proportion is an unbiased estimator of the population proportion, we have:\n",
    "$$\n",
    "\\text{bias}(\\hat{p}) = E(\\hat{p}) - p = p - p = 0\n",
    "$$\n",
    "\n",
    "### Example 4: Estimating a Population Median with the Sample Median\n",
    "Consider the sample median $\\tilde{X}$ as an estimator of the population median $\\eta$.\n",
    "\n",
    "**Estimator:**\n",
    "$$\n",
    "\\hat{\\theta}_m = \\tilde{X}\n",
    "$$\n",
    "\n",
    "**Bias:**\n",
    "The bias of the sample median depends on the underlying distribution. For a symmetric distribution, the sample median is an unbiased estimator:\n",
    "$$\n",
    "\\text{bias}(\\tilde{X}) = E(\\tilde{X}) - \\eta = 0\n",
    "$$\n",
    "\n",
    "However, for asymmetric distributions, the sample median can be biased.\n",
    "\n",
    "These examples illustrate how the bias of an estimator can vary depending on the estimator and the parameter being estimated.\n",
    "\n",
    "## Illustrating Bias with Python\n",
    "\n",
    "Let's write some Python code to illustrate the bias of different estimators. We'll use simulations to demonstrate the bias of the sample mean and the sample variance.\n"
   ]
  },
  {
   "cell_type": "code",
   "execution_count": 5,
   "metadata": {},
   "outputs": [
    {
     "name": "stdout",
     "output_type": "stream",
     "text": [
      "True Population Mean: 50\n",
      "Average Sample Mean: 49.872643091732456\n",
      "Bias of Sample Mean: -0.12735690826754364\n",
      "True Population Variance: 25\n",
      "Average Sample Variance: 24.311463697256524\n",
      "Bias of Sample Variance: -0.6885363027434757\n"
     ]
    }
   ],
   "source": [
    "import numpy as np\n",
    "\n",
    "# Parameters\n",
    "np.random.seed(0)\n",
    "population_mean = 50\n",
    "population_variance = 25\n",
    "sample_size = 30\n",
    "num_samples = 1000\n",
    "\n",
    "# Generate population data\n",
    "population_data = np.random.normal(loc=population_mean, scale=np.sqrt(population_variance), size=10000)\n",
    "\n",
    "# Function to calculate sample statistics\n",
    "def sample_statistics(data, sample_size):\n",
    "    sample = np.random.choice(data, sample_size, replace=False)\n",
    "    sample_mean = np.mean(sample)\n",
    "    sample_variance = np.var(sample, ddof=1)  # Use ddof=1 for sample variance\n",
    "    return sample_mean, sample_variance\n",
    "\n",
    "# Collect statistics from many samples\n",
    "sample_means = []\n",
    "sample_variances = []\n",
    "\n",
    "for _ in range(num_samples):\n",
    "    mean, variance = sample_statistics(population_data, sample_size)\n",
    "    sample_means.append(mean)\n",
    "    sample_variances.append(variance)\n",
    "\n",
    "# Calculate bias\n",
    "mean_bias = np.mean(sample_means) - population_mean\n",
    "variance_bias = np.mean(sample_variances) - population_variance\n",
    "\n",
    "print(f\"True Population Mean: {population_mean}\")\n",
    "print(f\"Average Sample Mean: {np.mean(sample_means)}\")\n",
    "print(f\"Bias of Sample Mean: {mean_bias}\")\n",
    "\n",
    "print(f\"True Population Variance: {population_variance}\")\n",
    "print(f\"Average Sample Variance: {np.mean(sample_variances)}\")\n",
    "print(f\"Bias of Sample Variance: {variance_bias}\")"
   ]
  },
  {
   "cell_type": "markdown",
   "metadata": {},
   "source": [
    "This code generates a large population of data from a normal distribution with a specified mean and variance. It then takes many samples from this population, calculates the sample mean and sample variance for each sample, and computes the average bias of these estimators.\n",
    "\n",
    "In this example, the bias of the sample mean is close to zero, indicating that the sample mean is an unbiased estimator of the population mean. However, the sample variance is biased, as shown by the negative bias value, which aligns with our theoretical understanding that the sample variance is a biased estimator of the population variance."
   ]
  },
  {
   "cell_type": "markdown",
   "metadata": {},
   "source": []
  }
 ],
 "metadata": {
  "kernelspec": {
   "display_name": "Python 3",
   "language": "python",
   "name": "python3"
  },
  "language_info": {
   "codemirror_mode": {
    "name": "ipython",
    "version": 3
   },
   "file_extension": ".py",
   "mimetype": "text/x-python",
   "name": "python",
   "nbconvert_exporter": "python",
   "pygments_lexer": "ipython3",
   "version": "3.10.7"
  }
 },
 "nbformat": 4,
 "nbformat_minor": 2
}
