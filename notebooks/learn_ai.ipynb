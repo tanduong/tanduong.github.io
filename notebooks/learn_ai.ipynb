{
 "cells": [
  {
   "cell_type": "markdown",
   "metadata": {},
   "source": [
    "<link rel=\"stylesheet\" href=\"/notebooks/style.css\" media=\"screen\" />\n",
    "\n",
    "<a href=\"/\">\n",
    "    <h1>🏠 Back</h1>\n",
    "</a>"
   ]
  },
  {
   "cell_type": "markdown",
   "metadata": {},
   "source": [
    "# Learn AI\n",
    "\n",
    "My goal is to learn AI. Not any AI but modern AI. Starting from [reproducing GPT2](https://youtu.be/l8pRSuU81PU?si=ixsljD8SHP3EhldW) and anything that is important and then working backward from there to build up the foundation.\n",
    "\n",
    "- Step 1: Reproduce GPT2\n",
    "- Step 2: Explore required knowledge and build a map.\n",
    "- Step 3: Revisit the map and learn. Update the map. Repeat.\n",
    "- Step 4: Profit!\n",
    "\n",
    "Until next time!"
   ]
  }
 ],
 "metadata": {
  "language_info": {
   "name": "python"
  }
 },
 "nbformat": 4,
 "nbformat_minor": 2
}
